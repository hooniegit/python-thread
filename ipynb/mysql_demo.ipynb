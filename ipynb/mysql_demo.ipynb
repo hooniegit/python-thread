{
 "cells": [
  {
   "cell_type": "code",
   "execution_count": 51,
   "metadata": {},
   "outputs": [],
   "source": [
    "# multiprocessing\n",
    "# https://docs.python.org/ko/3.7/library/multiprocessing.html\n",
    "\n",
    "from multiprocessing import Pool\n",
    "from logmaker import logmaker\n",
    "from configparser import ConfigParser\n",
    "from datetime import datetime\n",
    "\n",
    "from mysql import connector\n",
    "import MySQLdb"
   ]
  },
  {
   "cell_type": "code",
   "execution_count": 52,
   "metadata": {},
   "outputs": [],
   "source": [
    "parser = ConfigParser()\n",
    "\n",
    "config_dir = '/Users/kimdohoon/git/hooniegit/python-thread-pool/config/config.ini'\n",
    "parser.read(config_dir)\n",
    "\n",
    "MYSQL_HOST = parser.get('MYSQL', 'MYSQL_HOST')\n",
    "MYSQL_PWD = parser.get('MYSQL', 'MYSQL_PWD')\n",
    "MYSQL_PORT = parser.get('MYSQL', 'MYSQL_PORT')\n",
    "MYSQL_USER = parser.get('MYSQL', 'MYSQL_USER')\n",
    "MYSQL_DB = parser.get('MYSQL', 'MYSQL_DB')"
   ]
  },
  {
   "cell_type": "code",
   "execution_count": 53,
   "metadata": {},
   "outputs": [],
   "source": [
    "def mysql_connector():\n",
    "    conn = connector.connect(\n",
    "        host=MYSQL_HOST,\n",
    "        port=MYSQL_PORT,\n",
    "        user=MYSQL_USER,\n",
    "        password=MYSQL_PWD,\n",
    "        database=MYSQL_DB\n",
    "    )\n",
    "\n",
    "    return conn\n",
    "\n",
    "conn = mysql_connector()\n",
    "cursor = conn.cursor()"
   ]
  },
  {
   "cell_type": "code",
   "execution_count": 54,
   "metadata": {},
   "outputs": [],
   "source": [
    "log_dir = '/Users/kimdohoon/git/hooniegit/python-thread-pool/ipynb/log'\n",
    "logger = logmaker.LogMakerTxt(log_dir)"
   ]
  },
  {
   "cell_type": "code",
   "execution_count": 55,
   "metadata": {},
   "outputs": [],
   "source": [
    "def function(value):\n",
    "    print(value)\n",
    "\n",
    "    QUERY = f\"\"\"\n",
    "    insert into test(data)\n",
    "    values ('{value}')\n",
    "    \"\"\"\n",
    "\n",
    "    cursor.execute(QUERY)\n",
    "    conn.commit()\n",
    "\n",
    "def thread_function(value_list):\n",
    "    with Pool(100) as p:\n",
    "        p.map(function, value_list)"
   ]
  },
  {
   "cell_type": "code",
   "execution_count": 57,
   "metadata": {},
   "outputs": [
    {
     "name": "stdout",
     "output_type": "stream",
     "text": [
      "Land over timeHave a good timeMy name is HooniegitNice to meet youHello, World!\n",
      "\n",
      "\n",
      "\n",
      "\n"
     ]
    },
    {
     "ename": "OperationalError",
     "evalue": "2055: Lost connection to MySQL server at '3.38.84.65:3312', system error: 32 Broken pipe",
     "output_type": "error",
     "traceback": [
      "\u001b[0;31m---------------------------------------------------------------------------\u001b[0m",
      "\u001b[0;31mRemoteTraceback\u001b[0m                           Traceback (most recent call last)",
      "\u001b[0;31mRemoteTraceback\u001b[0m: \n\"\"\"\nTraceback (most recent call last):\n  File \"/Users/kimdohoon/.pyenv/versions/3.7.16/envs/airflow/lib/python3.7/site-packages/mysql/connector/network.py\", line 170, in send_plain\n    self.sock.sendall(packet)\n  File \"/Users/kimdohoon/.pyenv/versions/3.7.16/lib/python3.7/ssl.py\", line 1034, in sendall\n    v = self.send(byte_view[count:])\n  File \"/Users/kimdohoon/.pyenv/versions/3.7.16/lib/python3.7/ssl.py\", line 1003, in send\n    return self._sslobj.write(data)\nBrokenPipeError: [Errno 32] Broken pipe\n\nThe above exception was the direct cause of the following exception:\n\nTraceback (most recent call last):\n  File \"/Users/kimdohoon/.pyenv/versions/3.7.16/lib/python3.7/multiprocessing/pool.py\", line 121, in worker\n    result = (True, func(*args, **kwds))\n  File \"/Users/kimdohoon/.pyenv/versions/3.7.16/lib/python3.7/multiprocessing/pool.py\", line 44, in mapstar\n    return list(map(*args))\n  File \"/var/folders/9t/ty1sjvrj1hl6zhz7k9k_bqt80000gn/T/ipykernel_94427/2280346662.py\", line 9, in function\n    cursor.execute(QUERY)\n  File \"/Users/kimdohoon/.pyenv/versions/3.7.16/envs/airflow/lib/python3.7/site-packages/mysql/connector/cursor.py\", line 615, in execute\n    self._handle_result(self._connection.cmd_query(stmt))\n  File \"/Users/kimdohoon/.pyenv/versions/3.7.16/envs/airflow/lib/python3.7/site-packages/mysql/connector/connection.py\", line 1046, in cmd_query\n    result = self._handle_result(self._send_cmd(ServerCmd.QUERY, query))\n  File \"/Users/kimdohoon/.pyenv/versions/3.7.16/envs/airflow/lib/python3.7/site-packages/mysql/connector/connection.py\", line 660, in _send_cmd\n    compressed_packet_number,\n  File \"/Users/kimdohoon/.pyenv/versions/3.7.16/envs/airflow/lib/python3.7/site-packages/mysql/connector/network.py\", line 174, in send_plain\n    ) from err\nmysql.connector.errors.OperationalError: 2055: Lost connection to MySQL server at '3.38.84.65:3312', system error: 32 Broken pipe\n\"\"\"",
      "\nThe above exception was the direct cause of the following exception:\n",
      "\u001b[0;31mOperationalError\u001b[0m                          Traceback (most recent call last)",
      "\u001b[0;32m/var/folders/9t/ty1sjvrj1hl6zhz7k9k_bqt80000gn/T/ipykernel_94427/2307855824.py\u001b[0m in \u001b[0;36m<module>\u001b[0;34m\u001b[0m\n\u001b[1;32m      6\u001b[0m     \u001b[0;34m\"Land over time\"\u001b[0m\u001b[0;34m\u001b[0m\u001b[0;34m\u001b[0m\u001b[0m\n\u001b[1;32m      7\u001b[0m ]\n\u001b[0;32m----> 8\u001b[0;31m \u001b[0mthread_function\u001b[0m\u001b[0;34m(\u001b[0m\u001b[0mvalue_list\u001b[0m\u001b[0;34m)\u001b[0m\u001b[0;34m\u001b[0m\u001b[0;34m\u001b[0m\u001b[0m\n\u001b[0m",
      "\u001b[0;32m/var/folders/9t/ty1sjvrj1hl6zhz7k9k_bqt80000gn/T/ipykernel_94427/2280346662.py\u001b[0m in \u001b[0;36mthread_function\u001b[0;34m(value_list)\u001b[0m\n\u001b[1;32m     12\u001b[0m \u001b[0;32mdef\u001b[0m \u001b[0mthread_function\u001b[0m\u001b[0;34m(\u001b[0m\u001b[0mvalue_list\u001b[0m\u001b[0;34m)\u001b[0m\u001b[0;34m:\u001b[0m\u001b[0;34m\u001b[0m\u001b[0;34m\u001b[0m\u001b[0m\n\u001b[1;32m     13\u001b[0m     \u001b[0;32mwith\u001b[0m \u001b[0mPool\u001b[0m\u001b[0;34m(\u001b[0m\u001b[0;36m100\u001b[0m\u001b[0;34m)\u001b[0m \u001b[0;32mas\u001b[0m \u001b[0mp\u001b[0m\u001b[0;34m:\u001b[0m\u001b[0;34m\u001b[0m\u001b[0;34m\u001b[0m\u001b[0m\n\u001b[0;32m---> 14\u001b[0;31m         \u001b[0mp\u001b[0m\u001b[0;34m.\u001b[0m\u001b[0mmap\u001b[0m\u001b[0;34m(\u001b[0m\u001b[0mfunction\u001b[0m\u001b[0;34m,\u001b[0m \u001b[0mvalue_list\u001b[0m\u001b[0;34m)\u001b[0m\u001b[0;34m\u001b[0m\u001b[0;34m\u001b[0m\u001b[0m\n\u001b[0m",
      "\u001b[0;32m~/.pyenv/versions/3.7.16/lib/python3.7/multiprocessing/pool.py\u001b[0m in \u001b[0;36mmap\u001b[0;34m(self, func, iterable, chunksize)\u001b[0m\n\u001b[1;32m    266\u001b[0m         \u001b[0;32min\u001b[0m \u001b[0ma\u001b[0m \u001b[0mlist\u001b[0m \u001b[0mthat\u001b[0m \u001b[0;32mis\u001b[0m \u001b[0mreturned\u001b[0m\u001b[0;34m.\u001b[0m\u001b[0;34m\u001b[0m\u001b[0;34m\u001b[0m\u001b[0m\n\u001b[1;32m    267\u001b[0m         '''\n\u001b[0;32m--> 268\u001b[0;31m         \u001b[0;32mreturn\u001b[0m \u001b[0mself\u001b[0m\u001b[0;34m.\u001b[0m\u001b[0m_map_async\u001b[0m\u001b[0;34m(\u001b[0m\u001b[0mfunc\u001b[0m\u001b[0;34m,\u001b[0m \u001b[0miterable\u001b[0m\u001b[0;34m,\u001b[0m \u001b[0mmapstar\u001b[0m\u001b[0;34m,\u001b[0m \u001b[0mchunksize\u001b[0m\u001b[0;34m)\u001b[0m\u001b[0;34m.\u001b[0m\u001b[0mget\u001b[0m\u001b[0;34m(\u001b[0m\u001b[0;34m)\u001b[0m\u001b[0;34m\u001b[0m\u001b[0;34m\u001b[0m\u001b[0m\n\u001b[0m\u001b[1;32m    269\u001b[0m \u001b[0;34m\u001b[0m\u001b[0m\n\u001b[1;32m    270\u001b[0m     \u001b[0;32mdef\u001b[0m \u001b[0mstarmap\u001b[0m\u001b[0;34m(\u001b[0m\u001b[0mself\u001b[0m\u001b[0;34m,\u001b[0m \u001b[0mfunc\u001b[0m\u001b[0;34m,\u001b[0m \u001b[0miterable\u001b[0m\u001b[0;34m,\u001b[0m \u001b[0mchunksize\u001b[0m\u001b[0;34m=\u001b[0m\u001b[0;32mNone\u001b[0m\u001b[0;34m)\u001b[0m\u001b[0;34m:\u001b[0m\u001b[0;34m\u001b[0m\u001b[0;34m\u001b[0m\u001b[0m\n",
      "\u001b[0;32m~/.pyenv/versions/3.7.16/lib/python3.7/multiprocessing/pool.py\u001b[0m in \u001b[0;36mget\u001b[0;34m(self, timeout)\u001b[0m\n\u001b[1;32m    655\u001b[0m             \u001b[0;32mreturn\u001b[0m \u001b[0mself\u001b[0m\u001b[0;34m.\u001b[0m\u001b[0m_value\u001b[0m\u001b[0;34m\u001b[0m\u001b[0;34m\u001b[0m\u001b[0m\n\u001b[1;32m    656\u001b[0m         \u001b[0;32melse\u001b[0m\u001b[0;34m:\u001b[0m\u001b[0;34m\u001b[0m\u001b[0;34m\u001b[0m\u001b[0m\n\u001b[0;32m--> 657\u001b[0;31m             \u001b[0;32mraise\u001b[0m \u001b[0mself\u001b[0m\u001b[0;34m.\u001b[0m\u001b[0m_value\u001b[0m\u001b[0;34m\u001b[0m\u001b[0;34m\u001b[0m\u001b[0m\n\u001b[0m\u001b[1;32m    658\u001b[0m \u001b[0;34m\u001b[0m\u001b[0m\n\u001b[1;32m    659\u001b[0m     \u001b[0;32mdef\u001b[0m \u001b[0m_set\u001b[0m\u001b[0;34m(\u001b[0m\u001b[0mself\u001b[0m\u001b[0;34m,\u001b[0m \u001b[0mi\u001b[0m\u001b[0;34m,\u001b[0m \u001b[0mobj\u001b[0m\u001b[0;34m)\u001b[0m\u001b[0;34m:\u001b[0m\u001b[0;34m\u001b[0m\u001b[0;34m\u001b[0m\u001b[0m\n",
      "\u001b[0;31mOperationalError\u001b[0m: 2055: Lost connection to MySQL server at '3.38.84.65:3312', system error: 32 Broken pipe"
     ]
    }
   ],
   "source": [
    "value_list = [\n",
    "    \"Hello, World!\",\n",
    "    \"Nice to meet you\",\n",
    "    \"Have a good time\",\n",
    "    \"My name is Hooniegit\",\n",
    "    \"Land over time\"\n",
    "]\n",
    "thread_function(value_list)"
   ]
  },
  {
   "cell_type": "code",
   "execution_count": null,
   "metadata": {},
   "outputs": [
    {
     "name": "stdout",
     "output_type": "stream",
     "text": [
      "[1, 4, 9]\n"
     ]
    }
   ],
   "source": [
    "logger.LogFunction(thread_function)"
   ]
  }
 ],
 "metadata": {
  "kernelspec": {
   "display_name": "airflow",
   "language": "python",
   "name": "python3"
  },
  "language_info": {
   "codemirror_mode": {
    "name": "ipython",
    "version": 3
   },
   "file_extension": ".py",
   "mimetype": "text/x-python",
   "name": "python",
   "nbconvert_exporter": "python",
   "pygments_lexer": "ipython3",
   "version": "3.7.16"
  },
  "orig_nbformat": 4
 },
 "nbformat": 4,
 "nbformat_minor": 2
}
